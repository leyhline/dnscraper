{
 "cells": [
  {
   "cell_type": "code",
   "execution_count": null,
   "metadata": {},
   "outputs": [],
   "source": [
    "%load_ext autoreload\n",
    "%autoreload 2"
   ]
  },
  {
   "cell_type": "code",
   "execution_count": null,
   "metadata": {},
   "outputs": [],
   "source": [
    "%load_ext sql"
   ]
  },
  {
   "cell_type": "code",
   "execution_count": null,
   "metadata": {},
   "outputs": [],
   "source": [
    "from dnanalysis import *\n",
    "import nltk\n",
    "import os\n",
    "import string\n",
    "import re\n",
    "import matplotlib.pyplot as plt"
   ]
  },
  {
   "cell_type": "code",
   "execution_count": null,
   "metadata": {},
   "outputs": [],
   "source": [
    "%sql sqlite:///data/digitalnippon.sql"
   ]
  },
  {
   "cell_type": "code",
   "execution_count": null,
   "metadata": {},
   "outputs": [],
   "source": [
    "authors = %sql SELECT name FROM author WHERE registered_at IS NOT NULL\n",
    "authors = [author[0] for author in authors]"
   ]
  },
  {
   "cell_type": "code",
   "execution_count": null,
   "metadata": {},
   "outputs": [],
   "source": [
    "common_words = [\"''\", \"``\", \"...\", \"spoiler\", \"--\", \"“\", \"–\", \"’\", \"»\", \"«\", \"zeile\", \"spalte\", \"zelle\"]\n",
    "stopwords = nltk.corpus.stopwords.words(\"german\") + common_words"
   ]
  },
  {
   "cell_type": "code",
   "execution_count": null,
   "metadata": {},
   "outputs": [],
   "source": [
    "def handle_post(post: lhtml.Element):\n",
    "    element = get_html_element_from_string(post)\n",
    "    element = remove_author_and_date(element)\n",
    "    element = remove_elements_with_class(\"quote\", element)\n",
    "    element = remove_elements_with_class(\"quotecontent\", element)\n",
    "    return element.text_content()"
   ]
  },
  {
   "cell_type": "code",
   "execution_count": null,
   "metadata": {},
   "outputs": [],
   "source": [
    "def all_posts_to_text(user: str):\n",
    "    posts = %sql SELECT content FROM post_view WHERE author = :user\n",
    "    posts = (post[0] for post in posts)\n",
    "    xml_to_text = map(handle_post, posts)\n",
    "    text = \" \".join(xml_to_text)\n",
    "    text = re.sub(r'\\d+', \"\", text.lower())\n",
    "    text = nltk.word_tokenize(text)\n",
    "    global stopwords\n",
    "    text = (token for token in text if token not in stopwords and token not in string.punctuation)\n",
    "    return nltk.Text(text)"
   ]
  },
  {
   "cell_type": "code",
   "execution_count": null,
   "metadata": {},
   "outputs": [],
   "source": [
    "def get_unigram_bigram_trigram(user: str):\n",
    "    unigram = all_posts_to_text(user)\n",
    "    bigram = nltk.bigrams(unigram)\n",
    "    bigram = nltk.Text(\" \".join(two_words) for two_words in bigram)\n",
    "    trigram = nltk.trigrams(unigram)\n",
    "    trigram = nltk.Text(\" \".join(three_words) for three_words in trigram)\n",
    "    return unigram, bigram, trigram"
   ]
  },
  {
   "cell_type": "code",
   "execution_count": null,
   "metadata": {},
   "outputs": [],
   "source": [
    "unigram, bigram, trigram = get_unigram_bigram_trigram(\"Kasu\")"
   ]
  },
  {
   "cell_type": "code",
   "execution_count": null,
   "metadata": {},
   "outputs": [],
   "source": [
    "plt.figure(figsize=(15, 5))\n",
    "unigram.plot(50)"
   ]
  },
  {
   "cell_type": "code",
   "execution_count": null,
   "metadata": {},
   "outputs": [],
   "source": [
    "plt.figure(figsize=(15, 5))\n",
    "bigram.plot(50)"
   ]
  },
  {
   "cell_type": "code",
   "execution_count": null,
   "metadata": {},
   "outputs": [],
   "source": [
    "plt.figure(figsize=(15, 5))\n",
    "trigram.plot(50)"
   ]
  },
  {
   "cell_type": "code",
   "execution_count": null,
   "metadata": {},
   "outputs": [],
   "source": []
  }
 ],
 "metadata": {
  "kernelspec": {
   "display_name": "Python 3",
   "language": "python",
   "name": "python3"
  },
  "language_info": {
   "codemirror_mode": {
    "name": "ipython",
    "version": 3
   },
   "file_extension": ".py",
   "mimetype": "text/x-python",
   "name": "python",
   "nbconvert_exporter": "python",
   "pygments_lexer": "ipython3",
   "version": "3.6.5"
  }
 },
 "nbformat": 4,
 "nbformat_minor": 2
}
