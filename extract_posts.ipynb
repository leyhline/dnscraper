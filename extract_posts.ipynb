{
 "cells": [
  {
   "cell_type": "code",
   "execution_count": 1,
   "metadata": {},
   "outputs": [],
   "source": [
    "%load_ext autoreload\n",
    "%autoreload 2"
   ]
  },
  {
   "cell_type": "code",
   "execution_count": 2,
   "metadata": {},
   "outputs": [],
   "source": [
    "from jupyter_progressbar import ProgressBar\n",
    "import os\n",
    "from dnrepresentations.parsing import ForumPost, ForumThread, Author, ForumBoard, Database"
   ]
  },
  {
   "cell_type": "markdown",
   "metadata": {},
   "source": [
    "## Now lets scrape all the files with my new classes"
   ]
  },
  {
   "cell_type": "code",
   "execution_count": 3,
   "metadata": {},
   "outputs": [],
   "source": [
    "def write_thread_to_database(thread: ForumThread):\n",
    "    raise NotImplementedError()"
   ]
  },
  {
   "cell_type": "code",
   "execution_count": 4,
   "metadata": {},
   "outputs": [],
   "source": [
    "def yield_path_of_html_files(root_path=\"data/digitalnippon.de\"):\n",
    "    html_folders = [\"anime-manga-japan\", \"digital-nippon\", \"digital-nippon-archiv\", \"medientitel\", \"rpg-forest\", \"smalltalk\"]\n",
    "    walkers = (os.walk(os.path.join(root_path, directory)) for directory in html_folders)\n",
    "    for walker in walkers:\n",
    "        for root, _, files in walker:\n",
    "            for file in files:\n",
    "                # Filter non-HTML files\n",
    "                basename, ext = os.path.splitext(file)\n",
    "                if ext not in [\".htm\", \".html\"] or basename.endswith(\"POLL\"):\n",
    "                    continue\n",
    "                full_path = os.path.join(root, file)\n",
    "                yield full_path"
   ]
  },
  {
   "cell_type": "code",
   "execution_count": 5,
   "metadata": {},
   "outputs": [
    {
     "name": "stdout",
     "output_type": "stream",
     "text": [
      "16490\n"
     ]
    }
   ],
   "source": [
    "nr_files = sum(1 for _ in yield_path_of_html_files())\n",
    "print(nr_files)"
   ]
  },
  {
   "cell_type": "code",
   "execution_count": 6,
   "metadata": {},
   "outputs": [
    {
     "data": {
      "application/vnd.jupyter.widget-view+json": {
       "model_id": "7ce2cf58b7d940b6bcbe7faf0be184a2",
       "version_major": 2,
       "version_minor": 0
      },
      "text/plain": [
       "VBox(children=(HBox(children=(FloatProgress(value=0.0, max=1.0), HTML(value='<b>0</b>s passed', placeholder='0…"
      ]
     },
     "metadata": {},
     "output_type": "display_data"
    },
    {
     "name": "stdout",
     "output_type": "stream",
     "text": [
      "data/digitalnippon.de/digital-nippon/news/dn-rewatch-club-vol-4-anmeldung_t14082.html 'NoneType' object has no attribute 'group'\n",
      "data/digitalnippon.de/digital-nippon/news/dn-watch-club-vol-19-anmeldung_t20929.html 'NoneType' object has no attribute 'group'\n",
      "data/digitalnippon.de/digital-nippon/news/support/frhling-2011-on-air-threadfhrung_t13472.html 'NoneType' object has no attribute 'group'\n",
      "data/digitalnippon.de/digital-nippon/news/support/winter-2016-on-air-threadbetreuung_t22414.html 'NoneType' object has no attribute 'group'\n",
      "data/digitalnippon.de/digital-nippon-archiv/geschlossene-bereiche/discussion-area-philosophie/one-night-stands_t1242.html 'NoneType' object has no attribute 'group'\n",
      "data/digitalnippon.de/smalltalk/kissaten-/wie-esst-ihr-gurken_t19100.html 'NoneType' object has no attribute 'group'\n",
      "data/digitalnippon.de/smalltalk/kissaten-/bestes-werk-von-tsuzuki-masaki_t18358.html 'NoneType' object has no attribute 'group'\n",
      "data/digitalnippon.de/smalltalk/kissaten-/archiv/op-sechzehntelfinale-7-8_t18314.html 'NoneType' object has no attribute 'group'\n",
      "data/digitalnippon.de/smalltalk/kissaten-/archiv/-achtelfinale-1-8-_t21477.html 'NoneType' object has no attribute 'group'\n",
      "data/digitalnippon.de/smalltalk/kissaten-/archiv/duell-3-cruel-angels-thesis-vs-paradise-lost_t8196.html 'NoneType' object has no attribute 'group'\n",
      "data/digitalnippon.de/smalltalk/kissaten-/archiv/dn-awards-2014-15-bester-anime-soundtrack-07_t21336.html 'NoneType' object has no attribute 'group'\n",
      "data/digitalnippon.de/smalltalk/kissaten-/archiv/-achtelfinale-8-8-_t23845.html 'NoneType' object has no attribute 'group'\n",
      "data/digitalnippon.de/smalltalk/kissaten-/archiv/-finale-_t9399.html 'NoneType' object has no attribute 'group'\n",
      "data/digitalnippon.de/smalltalk/kissaten-/archiv/openings-15-16_t21330.html 'NoneType' object has no attribute 'group'\n",
      "data/digitalnippon.de/smalltalk/kissaten-/archiv/dn-awards-2014-15-bester-manga-national-01_t21280.html 'NoneType' object has no attribute 'group'\n",
      "data/digitalnippon.de/smalltalk/kissaten-/archiv/endings-32-48_t21899.html 'NoneType' object has no attribute 'group'\n",
      "data/digitalnippon.de/smalltalk/kissaten-/archiv/dn-awards-2013-14-geheimtipp-2013-12_t20138.html 'NoneType' object has no attribute 'group'\n",
      "data/digitalnippon.de/smalltalk/kissaten-/archiv/dn-awards-2008-09-bestes-ending-2008-12_t6621.html 'NoneType' object has no attribute 'group'\n",
      "data/digitalnippon.de/smalltalk/kissaten-/archiv/dn-awards-2014-15-best-action-2014-25_t21493.html 'NoneType' object has no attribute 'group'\n",
      "data/digitalnippon.de/smalltalk/kissaten-/archiv/4-op-vierkampf_t10227.html 'NoneType' object has no attribute 'group'\n",
      "data/digitalnippon.de/smalltalk/kissaten-/archiv/qualifikationsrunde-10-16_t20314.html 'NoneType' object has no attribute 'group'\n",
      "data/digitalnippon.de/smalltalk/kissaten-/archiv/openings-19-24_t23779.html 'NoneType' object has no attribute 'group'\n",
      "data/digitalnippon.de/smalltalk/kissaten-/archiv/dn-awards-2013-14-bester-synchronsprecher-2013-16_t20247.html 'NoneType' object has no attribute 'group'\n",
      "data/digitalnippon.de/smalltalk/kissaten-/archiv/2-vierkampf-gruppe-2c_t8506.html 'NoneType' object has no attribute 'group'\n",
      "data/digitalnippon.de/smalltalk/kissaten-/archiv/-master-duell-8-beautiful-fighter-vs-000-am-_t9227.html 'NoneType' object has no attribute 'group'\n"
     ]
    }
   ],
   "source": [
    "# Read threads\n",
    "threads = []\n",
    "board_paths = set()\n",
    "for path in ProgressBar(yield_path_of_html_files(), size=nr_files):\n",
    "    board_paths.add(os.path.split(path[22:])[0])\n",
    "    thread = ForumThread(path)\n",
    "    try:\n",
    "        thread.parse()\n",
    "    except AttributeError as e:\n",
    "        print(path, e)\n",
    "        continue\n",
    "    except Exception:\n",
    "        print(path)\n",
    "        raise\n",
    "    threads.append(thread)"
   ]
  },
  {
   "cell_type": "code",
   "execution_count": 7,
   "metadata": {},
   "outputs": [
    {
     "name": "stdout",
     "output_type": "stream",
     "text": [
      "digital-nippon/news\n",
      "digital-nippon-archiv/geschlossene-bereiche/pc-internet-smartphone\n",
      "digital-nippon-archiv/geschlossene-bereiche/nippon-news\n",
      "rpg-forest/rpg-archiv/beta\n",
      "rpg-forest/rpg-archiv/galvanizers-game\n",
      "rpg-forest/rpg-archiv/nachtalben\n",
      "medientitel/movies\n",
      "rpg-forest/rpg-archiv/genesis\n",
      "medientitel/anime\n",
      "digital-nippon-archiv/geschlossene-bereiche/music\n",
      "digital-nippon-archiv/geschlossene-bereiche/creative-corner\n",
      "medientitel/novels-\n",
      "rpg-forest/rpg-archiv/mirrors-call\n",
      "medientitel/manga\n",
      "rpg-forest/rpg-archiv/der-boshin-krieg\n",
      "rpg-forest/rpg-archiv/pain-prophet\n",
      "medientitel/games\n",
      "rpg-forest/rpg-archiv/crystals-power\n",
      "digital-nippon-archiv/geschlossene-bereiche/discussion-area-philosophie\n",
      "medientitel/tv\n",
      "rpg-forest/rpg-archiv/endzeit\n",
      "digital-nippon/news/newcomers\n",
      "digital-nippon/news/support\n",
      "smalltalk/kissaten-/cons-usermeetings\n",
      "rpg-forest/rpg-archiv/das-kartenhaus\n",
      "rpg-forest/rpg-archiv/himitsu\n",
      "rpg-forest/rpg-archiv/restauration\n",
      "rpg-forest/rpg-archiv/dark-rift\n",
      "digital-nippon-archiv/geschlossene-bereiche/general/hentai-lounge\n",
      "smalltalk/kissaten-/archiv\n",
      "medientitel/literatur\n",
      "smalltalk/kissaten-\n",
      "digital-nippon-archiv/geschlossene-bereiche/general\n",
      "medientitel/movies/making-of\n"
     ]
    }
   ],
   "source": [
    "print(*board_paths, sep=\"\\n\")"
   ]
  },
  {
   "cell_type": "code",
   "execution_count": 8,
   "metadata": {},
   "outputs": [],
   "source": [
    "member_walker = os.walk(\"data/digitalnippon.de/mitglieder\")\n",
    "member_root, _, member_files = next(member_walker)\n",
    "authors = []\n",
    "for file in member_files:\n",
    "    full_path = os.path.join(member_root, file)\n",
    "    author = Author(full_path)\n",
    "    try:\n",
    "        author.parse()\n",
    "    except Exception:\n",
    "        print(full_path)\n",
    "        raise\n",
    "    authors.append(author)"
   ]
  },
  {
   "cell_type": "code",
   "execution_count": 9,
   "metadata": {},
   "outputs": [],
   "source": [
    "boards = [ForumBoard(path=path) for path in board_paths]"
   ]
  },
  {
   "cell_type": "code",
   "execution_count": 10,
   "metadata": {},
   "outputs": [],
   "source": [
    "#(post for post in thread for thread in threads)"
   ]
  },
  {
   "cell_type": "markdown",
   "metadata": {},
   "source": [
    "# Now for the database code"
   ]
  },
  {
   "cell_type": "code",
   "execution_count": 11,
   "metadata": {},
   "outputs": [],
   "source": [
    "db = Database(\"sqlite:///digitalnippon.sql\")"
   ]
  },
  {
   "cell_type": "code",
   "execution_count": 12,
   "metadata": {},
   "outputs": [],
   "source": [
    "db.create_all()"
   ]
  },
  {
   "cell_type": "code",
   "execution_count": 13,
   "metadata": {},
   "outputs": [],
   "source": [
    "session = db.get_session()"
   ]
  },
  {
   "cell_type": "code",
   "execution_count": 14,
   "metadata": {},
   "outputs": [],
   "source": [
    "# Add boards and author\n",
    "session.add_all(authors)\n",
    "session.add_all(boards)"
   ]
  },
  {
   "cell_type": "code",
   "execution_count": 15,
   "metadata": {},
   "outputs": [],
   "source": [
    "session.commit()"
   ]
  },
  {
   "cell_type": "code",
   "execution_count": 17,
   "metadata": {},
   "outputs": [],
   "source": [
    "# Add parent references to boards\n",
    "for board in boards:\n",
    "    parent_path = os.path.split(board.path)[0]\n",
    "    try:\n",
    "        board_parent = next(b for b in boards if b.path == parent_path)\n",
    "    except StopIteration:\n",
    "        continue\n",
    "    board.parent_id = board_parent.id"
   ]
  },
  {
   "cell_type": "code",
   "execution_count": 18,
   "metadata": {},
   "outputs": [],
   "source": [
    "session.commit()"
   ]
  },
  {
   "cell_type": "code",
   "execution_count": 19,
   "metadata": {},
   "outputs": [],
   "source": [
    "# Add board references to threads\n",
    "for thread in threads:\n",
    "    parent_board_path = os.path.split(thread.path[22:])[0]\n",
    "    parend_board = next(board for board in boards if board.path == parent_board_path)\n",
    "    thread.board_id = parend_board.id"
   ]
  },
  {
   "cell_type": "code",
   "execution_count": 20,
   "metadata": {},
   "outputs": [],
   "source": [
    "session.add_all(threads)\n",
    "session.commit()"
   ]
  },
  {
   "cell_type": "code",
   "execution_count": 21,
   "metadata": {},
   "outputs": [],
   "source": [
    "posts = []\n",
    "for thread in threads:\n",
    "    for post in thread.posts:\n",
    "        post.thread_id = thread.id\n",
    "        author_name = post.author_string\n",
    "        try:\n",
    "            author = next(author for author in authors if author.name == author_name)\n",
    "        except StopIteration:\n",
    "            author = Author(\"\")\n",
    "            author.name = author_name\n",
    "            session.add(author)\n",
    "            session.commit()\n",
    "            authors.append(author)\n",
    "        post.author_id = author.id\n",
    "        posts.append(post)"
   ]
  },
  {
   "cell_type": "code",
   "execution_count": 22,
   "metadata": {},
   "outputs": [],
   "source": [
    "session.add_all(posts)\n",
    "session.commit()"
   ]
  }
 ],
 "metadata": {
  "kernelspec": {
   "display_name": "Python 3",
   "language": "python",
   "name": "python3"
  },
  "language_info": {
   "codemirror_mode": {
    "name": "ipython",
    "version": 3
   },
   "file_extension": ".py",
   "mimetype": "text/x-python",
   "name": "python",
   "nbconvert_exporter": "python",
   "pygments_lexer": "ipython3",
   "version": "3.6.4"
  }
 },
 "nbformat": 4,
 "nbformat_minor": 2
}
