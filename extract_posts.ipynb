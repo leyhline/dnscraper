{
 "cells": [
  {
   "cell_type": "code",
   "execution_count": 1,
   "metadata": {},
   "outputs": [],
   "source": [
    "from jupyter_progressbar import ProgressBar\n",
    "import os\n",
    "from dnrepresentations.parsing import ForumPost, ForumThread"
   ]
  },
  {
   "cell_type": "code",
   "execution_count": 2,
   "metadata": {},
   "outputs": [],
   "source": [
    "medaka_thread = ForumThread(\"digitalnippon/anime-manga-japan/anime/medaka-box_t16350.html\")"
   ]
  },
  {
   "cell_type": "code",
   "execution_count": 3,
   "metadata": {},
   "outputs": [],
   "source": [
    "medaka_thread.parse()"
   ]
  },
  {
   "cell_type": "code",
   "execution_count": 4,
   "metadata": {},
   "outputs": [],
   "source": [
    "assert medaka_thread.title == 'Medaka Box'"
   ]
  },
  {
   "cell_type": "code",
   "execution_count": 5,
   "metadata": {},
   "outputs": [],
   "source": [
    "medaka_authors = [post.author for post in medaka_thread.posts]"
   ]
  },
  {
   "cell_type": "code",
   "execution_count": 6,
   "metadata": {},
   "outputs": [],
   "source": [
    "assert medaka_authors[0] == \"Mitsuru\"\n",
    "assert len(medaka_authors) == 53"
   ]
  },
  {
   "cell_type": "code",
   "execution_count": 7,
   "metadata": {},
   "outputs": [
    {
     "name": "stdout",
     "output_type": "stream",
     "text": [
      "\n",
      "\n",
      "\n",
      " Mh, diese Formulierung hört sich hier in Deutschland ein klein wenig irreführend an. \n",
      "\n",
      "Aber zur Serie: Folge 1\n",
      "\n",
      "Heilige Scheiße war das schlecht! Also würde ich den Manga nicht kennen, ich würde die Serie sofort droppen. \n",
      "\n",
      "Na ja, aber was will man erwarten? Der Manga ging ja ähnlich generisch los. Aber hier wurden mal wieder alle Highschool-Shounen-Anime-Klischees verarbeitet, die es gibt. Und dieses kitschige Gelaber die ganze Zeit. *würg* Da kommt einem ja das Essen hoch. Diese ganzen Klugscheißerweisheiten gehen mir jetzt schon auf den Sack. Na ja, ich versuche es dennoch eher als gewollte Übertreibung zu sehen, die im Verlauf der Serie in Frage gestellt wird. Aber das ist mir teilweise schon recht schwer gefallen, einfach weil ich andere Serien kenne, in denen die gleichen Predigten gehalten werden und ERNST gemeint sind. (Also ein Anzeichen für zu wenig Übertreibung?) Und als Medaka ihre krassen Shounen-Stunts gemacht hat und am Ende das obligatorische Tittenwackel*boing* kam, da musste ich erst mal meine Kinnlade wieder suchen. Und zwar nicht vor Begeisterung, um das mal klarzustellen. \n",
      "\n",
      "Einziger Lichtblick bisher war Shiranui. \n",
      " Wobei ich mich noch zu erinnern glaube, dass es mir beim Manga ähnlich ging. \n",
      "\n",
      "Na ja, ich hoffe jedenfalls die Gainax-Fritzen halten sich jetzt nicht soooo stark an die Vorlage und hauen noch ordentlich auf die Kacke. Damit meine ich: Stil und Atmosphäre des Mangas sollen sollten schon rüberkommen, aber beim konkreten Storyverlauf hab ich nichts gegen ein bisschen Kreativität.\n"
     ]
    }
   ],
   "source": [
    "my_medaka_post = medaka_thread.posts[2]\n",
    "print(my_medaka_post.content)"
   ]
  },
  {
   "cell_type": "markdown",
   "metadata": {},
   "source": [
    "## Now lets scrape all the files with my new classes"
   ]
  },
  {
   "cell_type": "code",
   "execution_count": 8,
   "metadata": {},
   "outputs": [],
   "source": [
    "def write_thread_to_database(thread: ForumThread):\n",
    "    raise NotImplementedError()"
   ]
  },
  {
   "cell_type": "code",
   "execution_count": 9,
   "metadata": {},
   "outputs": [],
   "source": [
    "def yield_path_of_html_files():\n",
    "    html_folders = [\"anime-manga-japan\", \"digital-nippon\", \"event\", \"lifestyle\", \"rpg-forest\", \"smalltalk\"]\n",
    "    walkers = (os.walk(os.path.join(\"digitalnippon\", directory)) for directory in html_folders)\n",
    "    for walker in walkers:\n",
    "        for root, _, files in walker:\n",
    "            for file in files:\n",
    "                # Filter non-HTML files\n",
    "                _, ext = os.path.splitext(file)\n",
    "                if ext not in [\".htm\", \".html\"]:\n",
    "                    continue\n",
    "                full_path = os.path.join(root, file)\n",
    "                yield full_path"
   ]
  },
  {
   "cell_type": "code",
   "execution_count": 10,
   "metadata": {},
   "outputs": [
    {
     "name": "stdout",
     "output_type": "stream",
     "text": [
      "16336\n"
     ]
    }
   ],
   "source": [
    "nr_files = sum(1 for _ in yield_path_of_html_files())\n",
    "print(nr_files)"
   ]
  },
  {
   "cell_type": "code",
   "execution_count": 11,
   "metadata": {},
   "outputs": [
    {
     "data": {
      "application/vnd.jupyter.widget-view+json": {
       "model_id": "59816d239df847f1811d4976359f0d0e",
       "version_major": 2,
       "version_minor": 0
      },
      "text/plain": [
       "VBox(children=(HBox(children=(FloatProgress(value=0.0, max=1.0), HTML(value='<b>0</b>s passed', placeholder='0…"
      ]
     },
     "metadata": {},
     "output_type": "display_data"
    }
   ],
   "source": [
    "for path in ProgressBar(yield_path_of_html_files(), size=nr_files):\n",
    "    continue"
   ]
  },
  {
   "cell_type": "code",
   "execution_count": null,
   "metadata": {},
   "outputs": [],
   "source": []
  }
 ],
 "metadata": {
  "kernelspec": {
   "display_name": "Python 3",
   "language": "python",
   "name": "python3"
  },
  "language_info": {
   "codemirror_mode": {
    "name": "ipython",
    "version": 3
   },
   "file_extension": ".py",
   "mimetype": "text/x-python",
   "name": "python",
   "nbconvert_exporter": "python",
   "pygments_lexer": "ipython3",
   "version": "3.6.4"
  }
 },
 "nbformat": 4,
 "nbformat_minor": 2
}
