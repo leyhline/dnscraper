{
 "cells": [
  {
   "cell_type": "code",
   "execution_count": null,
   "metadata": {},
   "outputs": [],
   "source": [
    "%load_ext autoreload\n",
    "%autoreload 2"
   ]
  },
  {
   "cell_type": "code",
   "execution_count": null,
   "metadata": {},
   "outputs": [],
   "source": [
    "from jupyter_progressbar import ProgressBar\n",
    "import os\n",
    "from dnrepresentations.parsing import ForumPost, ForumThread, Author"
   ]
  },
  {
   "cell_type": "markdown",
   "metadata": {},
   "source": [
    "## Now lets scrape all the files with my new classes"
   ]
  },
  {
   "cell_type": "code",
   "execution_count": null,
   "metadata": {},
   "outputs": [],
   "source": [
    "def write_thread_to_database(thread: ForumThread):\n",
    "    raise NotImplementedError()"
   ]
  },
  {
   "cell_type": "code",
   "execution_count": null,
   "metadata": {},
   "outputs": [],
   "source": [
    "def yield_path_of_html_files(root_path=\"data/digitalnippon.de\"):\n",
    "    html_folders = [\"anime-manga-japan\", \"digital-nippon\", \"digital-nippon-archiv\", \"medientitel\", \"rpg-forest\", \"smalltalk\"]\n",
    "    walkers = (os.walk(os.path.join(root_path, directory)) for directory in html_folders)\n",
    "    for walker in walkers:\n",
    "        for root, _, files in walker:\n",
    "            for file in files:\n",
    "                # Filter non-HTML files\n",
    "                basename, ext = os.path.splitext(file)\n",
    "                if ext not in [\".htm\", \".html\"] or basename.endswith(\"POLL\"):\n",
    "                    continue\n",
    "                full_path = os.path.join(root, file)\n",
    "                yield full_path"
   ]
  },
  {
   "cell_type": "code",
   "execution_count": null,
   "metadata": {},
   "outputs": [],
   "source": [
    "nr_files = sum(1 for _ in yield_path_of_html_files())\n",
    "print(nr_files)"
   ]
  },
  {
   "cell_type": "code",
   "execution_count": null,
   "metadata": {},
   "outputs": [],
   "source": [
    "threads = []\n",
    "for path in ProgressBar(yield_path_of_html_files(), size=nr_files):\n",
    "    thread = ForumThread(path)\n",
    "    try:\n",
    "        thread.parse()\n",
    "    except AttributeError as e:\n",
    "        print(path, e)\n",
    "        continue\n",
    "    except Exception:\n",
    "        print(path)\n",
    "        raise\n",
    "    threads.append(thread)"
   ]
  },
  {
   "cell_type": "code",
   "execution_count": null,
   "metadata": {},
   "outputs": [],
   "source": [
    "member_walker = os.walk(\"data/digitalnippon.de/mitglieder\")\n",
    "member_root, _, member_files = next(member_walker)\n",
    "authors = []\n",
    "for file in member_files:\n",
    "    full_path = os.path.join(member_root, file)\n",
    "    author = Author(full_path)\n",
    "    try:\n",
    "        author.parse()\n",
    "    except Exception:\n",
    "        print(full_path)\n",
    "        raise\n",
    "    authors.append(author)"
   ]
  }
 ],
 "metadata": {
  "kernelspec": {
   "display_name": "Python 3",
   "language": "python",
   "name": "python3"
  },
  "language_info": {
   "codemirror_mode": {
    "name": "ipython",
    "version": 3
   },
   "file_extension": ".py",
   "mimetype": "text/x-python",
   "name": "python",
   "nbconvert_exporter": "python",
   "pygments_lexer": "ipython3",
   "version": "3.6.4"
  }
 },
 "nbformat": 4,
 "nbformat_minor": 2
}
